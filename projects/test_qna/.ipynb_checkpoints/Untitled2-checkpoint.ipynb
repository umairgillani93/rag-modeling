{
 "cells": [
  {
   "cell_type": "code",
   "execution_count": 1,
   "id": "f3ab190f-0d0d-4128-aee0-188668805121",
   "metadata": {},
   "outputs": [],
   "source": [
    "import os\n",
    "import sys \n",
    "from langchain_community.document_loaders import PyPDFLoader\n",
    "from config.constants import DATA_PATH\n",
    "from langchain_community.llms import Ollama\n",
    "from langchain_community.embeddings import OllamaEmbeddings\n",
    "from langchain_core.prompts import ChatPromptTemplate\n",
    "from langchain_community.vectorstores import FAISS\n",
    "from langchain.chains import create_retrieval_chain\n",
    "from langchain.chains.combine_documents import create_stuff_documents_chain"
   ]
  },
  {
   "cell_type": "code",
   "execution_count": null,
   "id": "b55bc17f-770d-473f-9319-684ab03f3cb6",
   "metadata": {},
   "outputs": [
    {
     "name": "stdout",
     "output_type": "stream",
     "text": [
      " >> creating embeddings\n",
      " >> creating vector store\n"
     ]
    }
   ],
   "source": [
    "# data loader path\n",
    "loader = PyPDFLoader(DATA_PATH)\n",
    "\n",
    "# this retreives the pdf document with page numbers\n",
    "pages = loader.load_and_split()\n",
    "\n",
    "# create embeddings\n",
    "print(' >> creating embeddings')\n",
    "embeddings = OllamaEmbeddings(model = \"llama2\")\n",
    "\n",
    "# create model instance\n",
    "llm = Ollama(model = \"llama2\")\n",
    "\n",
    "# create a prompt template\n",
    "prompt = ChatPromptTemplate.from_template(\n",
    "        \"\"\"Answer the following questions\n",
    "        <context>\n",
    "        {context}\n",
    "        </context>\n",
    "\n",
    "        Question: {input}\"\"\"\n",
    "        )\n",
    "\n",
    "# create vector \n",
    "print(' >> creating vector store')\n",
    "start = time.time()\n",
    "vector = FAISS.from_documents(pages, embeddings)\n",
    "end_time = time.time()\n",
    "\n",
    "print(f'time taken: {end_time - start_time}')\n",
    "print('\\n')\n",
    "print(' >> saving vector store locally')\n",
    "vector.save_local('faiss_index')\n",
    "print(' >> saved successfully, quitting')\n",
    "\n",
    "# # create retriever object\n",
    "# retriever = vector.as_retriever()\n",
    "\n",
    "# # create document chain\n",
    "# document_chain = create_stuff_documents_chain(llm, prompt)\n",
    "\n",
    "# # create retrieval chain\n",
    "# retrieval_chain = create_retrieval_chain(retriever, document_chain)"
   ]
  },
  {
   "cell_type": "code",
   "execution_count": null,
   "id": "9a253583-b758-451e-b839-a483747d89d9",
   "metadata": {},
   "outputs": [],
   "source": []
  }
 ],
 "metadata": {
  "kernelspec": {
   "display_name": "Python 3 (ipykernel)",
   "language": "python",
   "name": "python3"
  },
  "language_info": {
   "codemirror_mode": {
    "name": "ipython",
    "version": 3
   },
   "file_extension": ".py",
   "mimetype": "text/x-python",
   "name": "python",
   "nbconvert_exporter": "python",
   "pygments_lexer": "ipython3",
   "version": "3.10.12"
  }
 },
 "nbformat": 4,
 "nbformat_minor": 5
}
